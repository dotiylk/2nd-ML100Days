{
 "cells": [
  {
   "cell_type": "markdown",
   "metadata": {},
   "source": [
    "### 作業一\n",
    "請上 Kaggle, 在 Competitions 或 Dataset 中找一組競賽或資料並寫下：\n",
    "1. 你選的這組資料為何重要\n",
    "> 我選擇的資料集是 [Heart Disease UCI](https://www.kaggle.com/ronitf/heart-disease-uci \"該資料集在 Kaggle 上的連結\") 。\n",
    ">\n",
    "> 這是我點進 Kaggle Dataset 看到的第一個資料集，讓我想起工作上有接觸到心率值相關的計算，加上這個資料集的 voter 跟 kernel 數量也很多，代表可以從中學到不少東西，就決定挑選這個資料集來看看。\n",
    ">\n",
    "> 這個資料集重要的地方在於針對病人不同檢查的數據結果來判斷病人是否有得到心臟方面的疾病。\n",
    "2. 資料從何而來\n",
    "> 這個資料集是由 Kaggle 的使用者 [ronit](https://www.kaggle.com/ronitf \"ronit 在 Kaggle 上的個人頁面\") 所上傳。\n",
    ">\n",
    "> 但這份資料集其實歷史悠久，是存放於 [UCI Machine Learning Repository](https://archive.ics.uci.edu/ml/datasets/Heart+Disease \"原資料集來源頁面\") 上的其中一個檔案 [cleveland.data](https://archive.ics.uci.edu/ml/machine-learning-databases/heart-disease/cleveland.data \"原檔案連結\") ，而且還是它的一個子集，原檔案本來有 76 個欄位被縮減到了 14 個，等同於縮減檢查的項目數量並期待能夠達到相同的結果，對於醫療資源相對缺乏的地區有極大的好處。\n",
    ">\n",
    "> 不過隨著在網路上翻找資料的過程下來，也發現在這份資料集上傳到 Kaggle 之前就有人拿來做機器學習相關的研究了，也能視作一份助力吧。\n",
    "3. 蒐集而來的資料型態為何\n",
    "> 這份資料集的內容都已數位化，依照其縮減剩下的 14 個欄位可分為三類：\n",
    ">\n",
    "> * 類別 (Categorical)：性別 (sex)、胸部疼痛的種類 (cp)、空腹血糖濃度是否大於 120 mg/dl (fbs)、靜臥心電圖的結果種類 (restecg)、運動是否會誘發心絞痛 (exang)、地中海貧血的程度 (thal)、心血管直徑縮減程度有無超過 50 %(target)\n",
    ">\n",
    "> * 整數 (Integer)：年齡 (age)、入院時的休息血壓 (trestbps)、血清膽固醇濃度 (chol)、可達到的最大心率 (thalach)、激烈運動時的ST段斜率 (slope)、透視螢光檢查時被標註顏色的大血管數量 (ca)\n",
    ">\n",
    "> * 實數 (Real)：由運動到休息期間誘發ST段下降的平均數 (oldpeak)\n",
    "4. 這組資料想解決的問題如何評估\n",
    "> 最後一個欄位的資料提供了我們該病人的心血管直徑是否有縮減至 50 % 以下，由於經過心臟的血液變少而可能造成缺血性心臟病，所以這個數值提供了我們如何去檢驗我們的方法是否正確的一個參考，假設我們設計一個方法通過前面所有欄位 (target 除外) 運算所得出的結果與 target 此欄位相同的機率越高，那代表我們的方法越是準確。"
   ]
  },
  {
   "cell_type": "markdown",
   "metadata": {},
   "source": [
    "### 作業二\n",
    "想像你經營一個自由載客車隊，你希望能透過數據分析以提升業績，請你思考並描述你如何規劃整體的分析/解決方案：\n",
    "1. 核心問題為何\n",
    "> 首先假設這個車隊的司機數量及工作時數是固定的情況下，提升業績的重點應該要放在：\n",
    ">\n",
    "> * 提升每個司機的載客率，即縮短司機等待顧客上門的時間等等，目的是提高每個工作時間單位所獲得的利潤，方法可能有預先排定司機的顧客如定期包車，或是開發叫車系統以增加司機與顧客的觸擊率，而不是定點等著顧客上門，又或是建立一個預測顧客會在哪裡上車的模型，讓司機事先在特定的地點等待以減少空車在馬路上行進的時間。\n",
    ">\n",
    "> * 優化司機的行車路線，減少因交通堵塞所耗費的時間，進一步減少耗油量，目的是提高每個行進長度單位所獲得的利潤，方法有進一步掌握即時路況、開發新路線，或是乾脆放棄掉載客效率低的地區，又或是依照不同車輛的耗油量來優先安排載客順序，載客人數也可以列入考量，畢竟車子的負重與耗油量應有正相關。\n",
    "2. 資料從何而來\n",
    "> 為了能夠蒐集到解決方案所需要的資料，必須記錄每趟載客的、甚至是空車巡遊的起迄地點及時間點，並將其路線記錄下來，還有載客數量、耗油量，該旅程顧客的上車方法：叫車系統、定點上車或是巡遊途中招手上車的，空車巡遊的旅程還可以分成是漫無目的地尋找顧客或是去接使用叫車服務顧客的半路上，基本上一定需要 GPS 來記錄整個旅程的地理位置，比較方便的是使用司機的手機，但像是載客數量、上車種類這種比較難以自動輸入的參數就必須倚靠司機手動輸入，較為麻煩的應是車輛的參數如實際耗油量，經查資料後發現數位油表難以成為主流，若無法整合到同一個系統的話，就只能使用不同車型各自的理論耗油量，或是透過每次加油跟期間所跑的里程數來計算出一個實際但非即時的耗油量。\n",
    ">\n",
    "> 而有了 GPS 的資料後，甚至還能從路段的起迄地點計算該路段的坡度，更甚以進入該路段的時間點去查找當時的天氣紀錄。\n",
    "3. 蒐集而來的資料型態為何\n",
    "> 從作業一的範例可以得知若沒有特殊的圖像及影音檔案，大部分的資料欄位都可以分為三大類：\n",
    ">\n",
    "> * 類別 (Categorical)：顧客上車種類、空車巡遊的目的種類、組成整個旅程的路段組其路段行經過程的天氣種類。\n",
    ">\n",
    "> * 整數 (Integer)：載客人數、組成整個旅程的路段組其路段進入及離開的 timestamp、組成整個旅程的路段組其路段所花費的移動時長、組成整個旅程的路段組其路段所花費的靜止時長、該旅程的起訖 timestamp、該旅程的收費金額。\n",
    ">\n",
    "> * 實數 (Real)：組成整個旅程的路段組其路段起迄點的 GPS 座標、該旅程的行經總長度、實際耗油量、每單位時間所賺取的金額、每單位行經長度所賺取的金額。\n",
    ">\n",
    "> 我想要表達的組成整個旅程的路段組應該是長得像 Google Map 導航 API 所回傳某導航的過程是由 A 路段及 B 路段所組成的型態，但是我們不能夠確定每個旅程的路段數量多寡，所以在某些情境之下，一個旅程所呈現的一筆資料應該可以針對路段數量拆分成一個路段即是一筆資料的型態來做進一步的分析。\n",
    "4. 你要回答的問題，其如何評估\n",
    "> 在我們計算出的每單位時間所賺取的金額和每單位行經長度所賺取的金額這兩個指標應該都是要越高越好，當然這兩個數據並非正相關，有得必有失的情況下，或許可以將這兩個欄位各自加權來得到一個新的參數當作評估整個解決方案的效益如何。"
   ]
  },
  {
   "cell_type": "markdown",
   "metadata": {},
   "source": [
    "### 作業三\n",
    "請寫一個函式用來計算 Mean Square Error\n",
    "\n",
    "$ MAE = \\frac{1}{n}\\sum_{i=1}^{n}{\\left\\lvert(Y_i - \\hat{Y}_i)\\right\\rvert} $\n",
    "\n",
    "$ MSE = \\frac{1}{n}\\sum_{i=1}^{n}{(Y_i - \\hat{Y}_i)^2} $"
   ]
  },
  {
   "cell_type": "code",
   "execution_count": 1,
   "metadata": {},
   "outputs": [],
   "source": [
    "import numpy as np\n",
    "import matplotlib.pyplot as plt"
   ]
  },
  {
   "cell_type": "code",
   "execution_count": 2,
   "metadata": {},
   "outputs": [],
   "source": [
    "def mean_squared_error(y, y_hat):\n",
    "    \"\"\"\n",
    "    計算 MSE\n",
    "    Args:\n",
    "        - y: 實際值\n",
    "        - y_hat: 預測值\n",
    "    Return:\n",
    "        - mse: MSE\n",
    "    \"\"\"\n",
    "    mse = MSE = sum((y - y_hat) ** 2) / len(y)\n",
    "#     mse = MSE = sum(pow(y - y_hat, 2)) / len(y)\n",
    "    return mse"
   ]
  },
  {
   "cell_type": "code",
   "execution_count": 3,
   "metadata": {},
   "outputs": [],
   "source": [
    "def mean_absolute_error(y, yp):\n",
    "    \"\"\"\n",
    "    計算 MAE\n",
    "    Args:\n",
    "        - y: 實際值\n",
    "        - yp: 預測值\n",
    "    Return:\n",
    "        - mae: MAE\n",
    "    \"\"\"\n",
    "    mae = MAE = sum(abs(y - yp)) / len(y)\n",
    "    return mae"
   ]
  },
  {
   "cell_type": "code",
   "execution_count": 4,
   "metadata": {},
   "outputs": [
    {
     "data": {
      "image/png": "[encoded data removed]",
      "text/plain": [
       "<Figure size 432x288 with 1 Axes>"
      ]
     },
     "metadata": {
      "needs_background": "light"
     },
     "output_type": "display_data"
    }
   ],
   "source": [
    "w = 3\n",
    "b = 0.5\n",
    "\n",
    "x_lin = np.linspace(0, 100, 101)\n",
    "\n",
    "y = (x_lin + np.random.randn(101) * 5) * w + b\n",
    "\n",
    "plt.plot(x_lin, y, 'b.', label = 'data points')\n",
    "plt.title(\"Assume we have data points\")\n",
    "plt.legend(loc = 2)\n",
    "plt.show()"
   ]
  },
  {
   "cell_type": "code",
   "execution_count": 5,
   "metadata": {},
   "outputs": [
    {
     "data": {
      "image/png": "[encoded data removed]",
      "text/plain": [
       "<Figure size 432x288 with 1 Axes>"
      ]
     },
     "metadata": {
      "needs_background": "light"
     },
     "output_type": "display_data"
    }
   ],
   "source": [
    "y_hat = x_lin * w + b\n",
    "plt.plot(x_lin, y, 'b.', label = 'data')\n",
    "plt.plot(x_lin, y_hat, 'r-', label = 'prediction')\n",
    "plt.title(\"Assume we have data points (And the prediction)\")\n",
    "plt.legend(loc = 2)\n",
    "plt.show()"
   ]
  },
  {
   "cell_type": "code",
   "execution_count": 6,
   "metadata": {},
   "outputs": [
    {
     "name": "stdout",
     "output_type": "stream",
     "text": [
      "The Mean squared error is 227.397\n",
      "The Mean absolute error is 11.580\n"
     ]
    }
   ],
   "source": [
    "# 執行 Function, 確認有沒有正常執行\n",
    "MSE = mean_squared_error(y, y_hat)\n",
    "MAE = mean_absolute_error(y, y_hat)\n",
    "print(\"The Mean squared error is %.3f\" % (MSE))\n",
    "print(\"The Mean absolute error is %.3f\" % (MAE))"
   ]
  },
  {
   "cell_type": "code",
   "execution_count": null,
   "metadata": {},
   "outputs": [],
   "source": []
  }
 ],
 "metadata": {
  "kernelspec": {
   "display_name": "Python 3",
   "language": "python",
   "name": "python3"
  },
  "language_info": {
   "codemirror_mode": {
    "name": "ipython",
    "version": 3
   },
   "file_extension": ".py",
   "mimetype": "text/x-python",
   "name": "python",
   "nbconvert_exporter": "python",
   "pygments_lexer": "ipython3",
   "version": "3.7.3"
  }
 },
 "nbformat": 4,
 "nbformat_minor": 2
}
